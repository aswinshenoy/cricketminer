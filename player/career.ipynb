{
 "cells": [
  {
   "cell_type": "markdown",
   "metadata": {},
   "source": [
    "# Scraping Career Data of a Player\n",
    "\n",
    "The following program scrapes data from the stats pages of priemer sports website espncricinfo, and returns a json data containing extensive data player's career match-by-match."
   ]
  },
  {
   "cell_type": "code",
   "execution_count": 1,
   "metadata": {},
   "outputs": [],
   "source": [
    "import requests"
   ]
  },
  {
   "cell_type": "markdown",
   "metadata": {},
   "source": [
    "```requests library is required to fetch the data from webserver via http```"
   ]
  },
  {
   "cell_type": "code",
   "execution_count": 2,
   "metadata": {},
   "outputs": [],
   "source": [
    "import bs4"
   ]
  },
  {
   "cell_type": "markdown",
   "metadata": {},
   "source": [
    "``` bs4/beautifulsoup is required to parse data from html```"
   ]
  },
  {
   "cell_type": "code",
   "execution_count": 3,
   "metadata": {},
   "outputs": [],
   "source": [
    "base_url = 'http://stats.espncricinfo.com/ci/engine/player/'"
   ]
  },
  {
   "cell_type": "code",
   "execution_count": 4,
   "metadata": {},
   "outputs": [],
   "source": [
    "params = [\n",
    "    ('class', '3'),\n",
    "    ('template', 'results'),\n",
    "    ('type', 'batting'),\n",
    "    ('view', 'match')\n",
    "]"
   ]
  },
  {
   "cell_type": "code",
   "execution_count": 5,
   "metadata": {},
   "outputs": [],
   "source": [
    "player_id = '422108'"
   ]
  },
  {
   "cell_type": "markdown",
   "metadata": {},
   "source": [
    "```player_id is the id of the player in espncricinfo```"
   ]
  },
  {
   "cell_type": "code",
   "execution_count": 6,
   "metadata": {},
   "outputs": [],
   "source": [
    "url = base_url + player_id + '.html'"
   ]
  },
  {
   "cell_type": "code",
   "execution_count": 7,
   "metadata": {},
   "outputs": [],
   "source": [
    "response = requests.get(url=url, params=params)\n",
    "soup = bs4.BeautifulSoup(response.text,'lxml')"
   ]
  },
  {
   "cell_type": "code",
   "execution_count": 8,
   "metadata": {},
   "outputs": [],
   "source": [
    "table = soup.find_all(\"table\")[3]"
   ]
  },
  {
   "cell_type": "code",
   "execution_count": 9,
   "metadata": {},
   "outputs": [],
   "source": [
    "rows = bs4.BeautifulSoup(str(table))"
   ]
  },
  {
   "cell_type": "code",
   "execution_count": 10,
   "metadata": {},
   "outputs": [],
   "source": [
    "match_data = rows.find_all('tr')[1:]"
   ]
  },
  {
   "cell_type": "markdown",
   "metadata": {},
   "source": [
    "#### Finds basic batting details for each match played"
   ]
  },
  {
   "cell_type": "code",
   "execution_count": 11,
   "metadata": {},
   "outputs": [],
   "source": [
    "data = []\n",
    "i = 0\n",
    "for match in match_data:\n",
    "    i = i+1\n",
    "    isDismissed = False\n",
    "    didNotBat = False\n",
    "\n",
    "    cols = bs4.BeautifulSoup(str(match))\n",
    "    \n",
    "    score_cell = cols.find_all('td')[0]\n",
    "    soup = bs4.BeautifulSoup(str(score_cell))\n",
    "    score = soup.get_text()\n",
    "    if score == \"DNB\" or score == \"TDNB\":\n",
    "        didNotBat = True\n",
    "        runs = 0\n",
    "    elif \"*\" in score:\n",
    "        runs = int(score[:-1])\n",
    "    else:\n",
    "        isDismissed = True\n",
    "        runs =  int(score)\n",
    "        \n",
    "\n",
    "    bf_cell = cols.find_all('td')[2]\n",
    "    soup = bs4.BeautifulSoup(str(bf_cell))\n",
    "    balls = soup.get_text()\n",
    "    if balls == \"-\":\n",
    "        ball = 0\n",
    "        strikeRate = 0\n",
    "    else:\n",
    "        ball = balls\n",
    "        if(int(balls)>0):\n",
    "            strikeRate = round(int(runs)/int(balls) * 100,2)\n",
    "        \n",
    "    fours_cell  = cols.find_all('td')[4]\n",
    "    soup = bs4.BeautifulSoup(str(fours_cell))\n",
    "    fours = soup.get_text()\n",
    "    if fours == \"-\":\n",
    "        four = 0\n",
    "    else:\n",
    "        four = fours\n",
    "    \n",
    "    sixes_cell  = cols.find_all('td')[5]\n",
    "    soup = bs4.BeautifulSoup(str(sixes_cell))\n",
    "    sixes = soup.get_text()\n",
    "    if sixes == \"-\":\n",
    "        six = 0\n",
    "    else:\n",
    "        six = sixes\n",
    "        \n",
    "    \n",
    "    opposition_cell  = cols.find_all('td')[7]\n",
    "    soup = bs4.BeautifulSoup(str(opposition_cell))\n",
    "    opposition = soup.get_text()[2:]\n",
    "    \n",
    "    ground_cell  = cols.find_all('td')[8]\n",
    "    soup = bs4.BeautifulSoup(str(ground_cell))\n",
    "    ground = soup.get_text()\n",
    "    \n",
    "    date_cell  = cols.find_all('td')[9]\n",
    "    soup = bs4.BeautifulSoup(str(date_cell))\n",
    "    date = soup.get_text()\n",
    "    \n",
    "    id_cell  = cols.find_all('td')[10]\n",
    "    soup = bs4.BeautifulSoup(str(id_cell))\n",
    "    matchID = soup.get_text().split(\"#\",1)[1] \n",
    "    \n",
    "    entry = {\n",
    "        'balls': int(ball),\n",
    "        'batPosition': None,\n",
    "        'captained': False,\n",
    "        'date': date,\n",
    "        'didNotBat': didNotBat,\n",
    "        'dismissalType': None,\n",
    "        'dismissedAgainst': None,\n",
    "        'dismissalBowlerHand': None,\n",
    "        'matchID': int(matchID),\n",
    "        'minutes': 0,\n",
    "        'fours': int(four),\n",
    "        'firstBat': False,\n",
    "        'ground': ground,\n",
    "        'match': int(i),\n",
    "        'notOut': not isDismissed,\n",
    "        'opposition': opposition,\n",
    "        'runs': int(runs),\n",
    "        'sixes': int(six),\n",
    "        'strikeRate': int(strikeRate),\n",
    "        'won': False\n",
    "    }\n",
    "    data.append(entry)"
   ]
  },
  {
   "cell_type": "code",
   "execution_count": 12,
   "metadata": {},
   "outputs": [],
   "source": [
    "import pandas as pd"
   ]
  },
  {
   "cell_type": "markdown",
   "metadata": {},
   "source": [
    "``` pandas library is required to handle large amount of data easily ```"
   ]
  },
  {
   "cell_type": "code",
   "execution_count": 13,
   "metadata": {},
   "outputs": [
    {
     "name": "stdout",
     "output_type": "stream",
     "text": [
      "    balls batPosition  captained         date  didNotBat dismissalBowlerHand  \\\n",
      "0       1        None      False  18 Jun 2016      False                None   \n",
      "1      40        None      False  20 Jun 2016      False                None   \n",
      "2      20        None      False  22 Jun 2016      False                None   \n",
      "3      51        None      False  27 Aug 2016      False                None   \n",
      "4       0        None      False  28 Aug 2016       True                None   \n",
      "5       9        None      False  26 Jan 2017      False                None   \n",
      "6      47        None      False  29 Jan 2017      False                None   \n",
      "7      18        None      False   1 Feb 2017      False                None   \n",
      "8      18        None      False   6 Sep 2017      False                None   \n",
      "9      48        None      False  20 Dec 2017      False                None   \n",
      "10     49        None      False  22 Dec 2017      False                None   \n",
      "11      9        None      False  24 Dec 2017      False                None   \n",
      "12     17        None      False  12 Mar 2018      False                None   \n",
      "13      0        None      False  14 Mar 2018       True                None   \n",
      "14     14        None      False  18 Mar 2018      False                None   \n",
      "15     36        None      False  29 Jun 2018      False                None   \n",
      "16     54        None      False   3 Jul 2018      False                None   \n",
      "17      8        None      False   6 Jul 2018      False                None   \n",
      "18     10        None      False   8 Jul 2018      False                None   \n",
      "19     22        None      False   4 Nov 2018      False                None   \n",
      "20     14        None      False   6 Nov 2018      False                None   \n",
      "21     10        None      False  11 Nov 2018      False                None   \n",
      "22     12        None      False  21 Nov 2018      False                None   \n",
      "23      0        None      False  23 Nov 2018       True                None   \n",
      "24     20        None      False  25 Nov 2018      False                None   \n",
      "25     36        None      False  24 Feb 2019      False                None   \n",
      "26     26        None      False  27 Feb 2019      False                None   \n",
      "\n",
      "   dismissalType dismissedAgainst  firstBat  fours             ground  match  \\\n",
      "0           None             None     False      0             Harare      1   \n",
      "1           None             None     False      2             Harare      2   \n",
      "2           None             None     False      3             Harare      3   \n",
      "3           None             None     False     12         Lauderhill      4   \n",
      "4           None             None     False      0         Lauderhill      5   \n",
      "5           None             None     False      1             Kanpur      6   \n",
      "6           None             None     False      6             Nagpur      7   \n",
      "7           None             None     False      2          Bengaluru      8   \n",
      "8           None             None     False      3      Colombo (RPS)      9   \n",
      "9           None             None     False      7            Cuttack     10   \n",
      "10          None             None     False      5             Indore     11   \n",
      "11          None             None     False      0             Mumbai     12   \n",
      "12          None             None     False      1      Colombo (RPS)     13   \n",
      "13          None             None     False      0      Colombo (RPS)     14   \n",
      "14          None             None     False      2      Colombo (RPS)     15   \n",
      "15          None             None     False      3  Dublin (Malahide)     16   \n",
      "16          None             None     False     10         Manchester     17   \n",
      "17          None             None     False      0            Cardiff     18   \n",
      "18          None             None     False      1            Bristol     19   \n",
      "19          None             None     False      2            Kolkata     20   \n",
      "20          None             None     False      2            Lucknow     21   \n",
      "21          None             None     False      4            Chennai     22   \n",
      "22          None             None     False      1           Brisbane     23   \n",
      "23          None             None     False      0          Melbourne     24   \n",
      "24          None             None     False      0             Sydney     25   \n",
      "25          None             None     False      6      Visakhapatnam     26   \n",
      "26          None             None     False      3          Bengaluru     27   \n",
      "\n",
      "    matchID  minutes  notOut   opposition  runs  sixes  strikeRate    won  \n",
      "0       558        0   False     Zimbabwe     0      0           0  False  \n",
      "1       559        0    True     Zimbabwe    47      2         117  False  \n",
      "2       560        0   False     Zimbabwe    22      1         110  False  \n",
      "3       562        0    True  West Indies   110      5         215  False  \n",
      "4       563        0    True  West Indies     0      0           0  False  \n",
      "5       592        0   False      England     8      0          88  False  \n",
      "6       593        0   False      England    71      2         151  False  \n",
      "7       594        0   False      England    22      1         122  False  \n",
      "8       618        0   False    Sri Lanka    24      0         133  False  \n",
      "9       633        0   False    Sri Lanka    61      1         127  False  \n",
      "10      634        0   False    Sri Lanka    89      8         181  False  \n",
      "11      635        0   False    Sri Lanka     4      0          44  False  \n",
      "12      659        0   False    Sri Lanka    18      0         105  False  \n",
      "13      660        0    True   Bangladesh     0      0           0  False  \n",
      "14      662        0   False   Bangladesh    24      1         171  False  \n",
      "15      680        0   False      Ireland    70      6         194  False  \n",
      "16      684        0    True      England   101      5         187  False  \n",
      "17      688        0   False      England     6      0          75  False  \n",
      "18      690        0   False      England    19      2         190  False  \n",
      "19      707        0   False  West Indies    16      0          72  False  \n",
      "20      709        0    True  West Indies    26      1         185  False  \n",
      "21      710        0   False  West Indies    17      0         170  False  \n",
      "22      712        0   False    Australia    13      0         108  False  \n",
      "23      713        0    True    Australia     0      0           0  False  \n",
      "24      714        0   False    Australia    14      1          70  False  \n",
      "25      748        0   False    Australia    50      1         138  False  \n",
      "26      749        0   False    Australia    47      4         180  False  \n"
     ]
    }
   ],
   "source": [
    "dataset = pd.DataFrame(data)\n",
    "print(dataset)"
   ]
  },
  {
   "cell_type": "markdown",
   "metadata": {},
   "source": [
    "#### Finds matches won among played matches"
   ]
  },
  {
   "cell_type": "code",
   "execution_count": 14,
   "metadata": {},
   "outputs": [
    {
     "name": "stdout",
     "output_type": "stream",
     "text": [
      "[559, 560, 593, 594, 618, 633, 634, 635, 659, 660, 662, 680, 684, 690, 707, 709, 710, 714]\n"
     ]
    }
   ],
   "source": [
    "params = [\n",
    "    ('class', '3'),\n",
    "    ('template', 'results'),\n",
    "    ('type', 'batting'),\n",
    "    ('view', 'match'),\n",
    "    ('result','1')\n",
    "]\n",
    "response = requests.get(url=url, params=params)\n",
    "soup = bs4.BeautifulSoup(response.text,'lxml')\n",
    "table = soup.find_all(\"table\")[3]\n",
    "match_data = table.find_all('tr')[1:]\n",
    "\n",
    "won = []\n",
    "for match in match_data:\n",
    "    id_cell  = match.find_all('td')[10]\n",
    "    soup = bs4.BeautifulSoup(str(id_cell))\n",
    "    matchID = soup.get_text().split(\"#\",1)[1]\n",
    "    won.append(int(matchID))\n",
    "print(won)"
   ]
  },
  {
   "cell_type": "markdown",
   "metadata": {},
   "source": [
    "#### Finds matches as captain among played matches"
   ]
  },
  {
   "cell_type": "code",
   "execution_count": 15,
   "metadata": {},
   "outputs": [
    {
     "ename": "IndexError",
     "evalue": "list index out of range",
     "output_type": "error",
     "traceback": [
      "\u001b[0;31m---------------------------------------------------------------------------\u001b[0m",
      "\u001b[0;31mIndexError\u001b[0m                                Traceback (most recent call last)",
      "\u001b[0;32m<ipython-input-15-d430993eaa13>\u001b[0m in \u001b[0;36m<module>\u001b[0;34m\u001b[0m\n\u001b[1;32m     14\u001b[0m \u001b[0mcaptained\u001b[0m \u001b[0;34m=\u001b[0m \u001b[0;34m[\u001b[0m\u001b[0;34m]\u001b[0m\u001b[0;34m\u001b[0m\u001b[0;34m\u001b[0m\u001b[0m\n\u001b[1;32m     15\u001b[0m \u001b[0;32mfor\u001b[0m \u001b[0mmatch\u001b[0m \u001b[0;32min\u001b[0m \u001b[0mmatch_data\u001b[0m\u001b[0;34m:\u001b[0m\u001b[0;34m\u001b[0m\u001b[0;34m\u001b[0m\u001b[0m\n\u001b[0;32m---> 16\u001b[0;31m     \u001b[0mid_cell\u001b[0m  \u001b[0;34m=\u001b[0m \u001b[0mmatch\u001b[0m\u001b[0;34m.\u001b[0m\u001b[0mfind_all\u001b[0m\u001b[0;34m(\u001b[0m\u001b[0;34m'td'\u001b[0m\u001b[0;34m)\u001b[0m\u001b[0;34m[\u001b[0m\u001b[0;36m10\u001b[0m\u001b[0;34m]\u001b[0m\u001b[0;34m\u001b[0m\u001b[0;34m\u001b[0m\u001b[0m\n\u001b[0m\u001b[1;32m     17\u001b[0m     \u001b[0msoup\u001b[0m \u001b[0;34m=\u001b[0m \u001b[0mbs4\u001b[0m\u001b[0;34m.\u001b[0m\u001b[0mBeautifulSoup\u001b[0m\u001b[0;34m(\u001b[0m\u001b[0mstr\u001b[0m\u001b[0;34m(\u001b[0m\u001b[0mid_cell\u001b[0m\u001b[0;34m)\u001b[0m\u001b[0;34m)\u001b[0m\u001b[0;34m\u001b[0m\u001b[0;34m\u001b[0m\u001b[0m\n\u001b[1;32m     18\u001b[0m     \u001b[0mmatchID\u001b[0m \u001b[0;34m=\u001b[0m \u001b[0msoup\u001b[0m\u001b[0;34m.\u001b[0m\u001b[0mget_text\u001b[0m\u001b[0;34m(\u001b[0m\u001b[0;34m)\u001b[0m\u001b[0;34m.\u001b[0m\u001b[0msplit\u001b[0m\u001b[0;34m(\u001b[0m\u001b[0;34m\"#\"\u001b[0m\u001b[0;34m,\u001b[0m\u001b[0;36m1\u001b[0m\u001b[0;34m)\u001b[0m\u001b[0;34m[\u001b[0m\u001b[0;36m1\u001b[0m\u001b[0;34m]\u001b[0m\u001b[0;34m\u001b[0m\u001b[0;34m\u001b[0m\u001b[0m\n",
      "\u001b[0;31mIndexError\u001b[0m: list index out of range"
     ]
    }
   ],
   "source": [
    "params = [\n",
    "    ('captain','1'),\n",
    "    ('class', '3'),\n",
    "    ('filter','advanced'),\n",
    "    ('template', 'results'),\n",
    "    ('type', 'batting'),\n",
    "    ('view', 'match'),\n",
    "]\n",
    "response = requests.get(url=url, params=params)\n",
    "soup = bs4.BeautifulSoup(response.text,'lxml')\n",
    "table = soup.find_all(\"table\")[3]\n",
    "match_data = table.find_all('tr')[1:]\n",
    "\n",
    "captained = []\n",
    "for match in match_data:\n",
    "    id_cell  = match.find_all('td')[10]\n",
    "    soup = bs4.BeautifulSoup(str(id_cell))\n",
    "    matchID = soup.get_text().split(\"#\",1)[1]\n",
    "    captained.append(int(matchID))\n",
    "print(captained)"
   ]
  },
  {
   "cell_type": "markdown",
   "metadata": {},
   "source": [
    "#### Finds Batting Position, Batting Innings, Minutes Batted, Dismissal Type in played matches"
   ]
  },
  {
   "cell_type": "code",
   "execution_count": 16,
   "metadata": {},
   "outputs": [],
   "source": [
    "params = [\n",
    "    ('class', '3'),\n",
    "    ('filter','advanced'),\n",
    "    ('template', 'results'),\n",
    "    ('type', 'batting'),\n",
    "    ('view', 'innings'),\n",
    "]\n",
    "response = requests.get(url=url, params=params)\n",
    "soup = bs4.BeautifulSoup(response.text,'lxml')\n",
    "table = soup.find_all(\"table\")[3]\n",
    "match_data = table.find_all('tr')[1:]\n",
    "\n",
    "batPosition = []\n",
    "batFirst = []\n",
    "dismissalType = []\n",
    "minutes = []\n",
    "for match in match_data:\n",
    "\n",
    "    id_cell  = match.find_all('td')[13]\n",
    "    soup = bs4.BeautifulSoup(str(id_cell))\n",
    "    matchID = soup.get_text().split(\"#\",1)[1]\n",
    "\n",
    "    position_cell  = match.find_all('td')[6]\n",
    "    soup = bs4.BeautifulSoup(str(position_cell))\n",
    "    batPosition.append({\n",
    "        \"id\": int(matchID),\n",
    "        \"pos\": soup.get_text()\n",
    "    })\n",
    "    \n",
    "    minutes_cell  = match.find_all('td')[1]\n",
    "    soup = bs4.BeautifulSoup(str(minutes_cell))\n",
    "    if soup.get_text() != '-':\n",
    "        minutes.append({\n",
    "            \"id\": int(matchID),\n",
    "            \"min\": soup.get_text()\n",
    "        })\n",
    "    \n",
    "    dismissal_cell  = match.find_all('td')[7]\n",
    "    soup = bs4.BeautifulSoup(str(dismissal_cell))\n",
    "    if soup.get_text() != '-' or soup.get_text() != 'not out':\n",
    "        dismissalType.append({\n",
    "            \"id\": int(matchID),\n",
    "            \"type\": soup.get_text()\n",
    "        })\n",
    "    \n",
    "    innings_cell  = match.find_all('td')[8]\n",
    "    soup = bs4.BeautifulSoup(str(innings_cell))\n",
    "    if soup.get_text() == '1':  \n",
    "        batFirst.append(int(matchID))"
   ]
  },
  {
   "cell_type": "markdown",
   "metadata": {},
   "source": [
    "#### Finds Dismissal against Pace/Spin Bowlers in played matches"
   ]
  },
  {
   "cell_type": "code",
   "execution_count": 17,
   "metadata": {},
   "outputs": [
    {
     "name": "stdout",
     "output_type": "stream",
     "text": [
      "[{'type': 'pace', 'id': 558}, {'type': 'pace', 'id': 560}, {'type': 'pace', 'id': 592}, {'type': 'pace', 'id': 593}, {'type': 'pace', 'id': 594}, {'type': 'pace', 'id': 633}, {'type': 'pace', 'id': 634}, {'type': 'pace', 'id': 635}, {'type': 'pace', 'id': 662}, {'type': 'pace', 'id': 680}, {'type': 'pace', 'id': 688}, {'type': 'pace', 'id': 690}, {'type': 'pace', 'id': 707}, {'type': 'pace', 'id': 710}, {'type': 'pace', 'id': 748}, {'type': 'pace', 'id': 749}, {'type': 'spin', 'id': 618}, {'type': 'spin', 'id': 659}, {'type': 'spin', 'id': 712}, {'type': 'spin', 'id': 714}]\n"
     ]
    }
   ],
   "source": [
    "dismissedAgainst = []\n",
    "\n",
    "params = [\n",
    "    ('class', '3'),\n",
    "    ('bowling_pacespin','1'),\n",
    "    ('filter','advanced'),\n",
    "    ('template', 'results'),\n",
    "    ('type', 'batting'),\n",
    "    ('view', 'dismissal_list'),\n",
    "]\n",
    "response = requests.get(url=url, params=params)\n",
    "soup = bs4.BeautifulSoup(response.text,'lxml')\n",
    "table = soup.find_all(\"table\")[3]\n",
    "match_data = table.find_all('tr')[1:]\n",
    "\n",
    "for match in match_data:\n",
    "\n",
    "    id_cell  = match.find_all('td')[9]\n",
    "    soup = bs4.BeautifulSoup(str(id_cell))\n",
    "    matchID = soup.get_text().split(\"#\",1)[1]\n",
    "    dismissedAgainst.append({\n",
    "        \"type\": \"pace\",\n",
    "        \"id\": int(matchID)\n",
    "    })\n",
    "    \n",
    "params = [\n",
    "    ('class', '3'),\n",
    "    ('bowling_pacespin','2'),\n",
    "    ('filter','advanced'),\n",
    "    ('template', 'results'),\n",
    "    ('type', 'batting'),\n",
    "    ('view', 'dismissal_list'),\n",
    "]\n",
    "response = requests.get(url=url, params=params)\n",
    "soup = bs4.BeautifulSoup(response.text,'lxml')\n",
    "table = soup.find_all(\"table\")[3]\n",
    "match_data = table.find_all('tr')[1:]\n",
    "\n",
    "for match in match_data:\n",
    "\n",
    "    id_cell  = match.find_all('td')[9]\n",
    "    soup = bs4.BeautifulSoup(str(id_cell))\n",
    "    matchID = soup.get_text().split(\"#\",1)[1]\n",
    "    dismissedAgainst.append({\n",
    "        \"type\": \"spin\",\n",
    "        \"id\": int(matchID)\n",
    "    })\n",
    "    \n",
    "print(dismissedAgainst)\n"
   ]
  },
  {
   "cell_type": "markdown",
   "metadata": {},
   "source": [
    "#### Finds Dismissal against Right/Left-Handed Bowlers in played matches"
   ]
  },
  {
   "cell_type": "code",
   "execution_count": 18,
   "metadata": {},
   "outputs": [
    {
     "ename": "IndexError",
     "evalue": "list index out of range",
     "output_type": "error",
     "traceback": [
      "\u001b[0;31m---------------------------------------------------------------------------\u001b[0m",
      "\u001b[0;31mIndexError\u001b[0m                                Traceback (most recent call last)",
      "\u001b[0;32m<ipython-input-18-2262ce429b6d>\u001b[0m in \u001b[0;36m<module>\u001b[0;34m\u001b[0m\n\u001b[1;32m     39\u001b[0m \u001b[0;32mfor\u001b[0m \u001b[0mmatch\u001b[0m \u001b[0;32min\u001b[0m \u001b[0mmatch_data\u001b[0m\u001b[0;34m:\u001b[0m\u001b[0;34m\u001b[0m\u001b[0;34m\u001b[0m\u001b[0m\n\u001b[1;32m     40\u001b[0m \u001b[0;34m\u001b[0m\u001b[0m\n\u001b[0;32m---> 41\u001b[0;31m     \u001b[0mid_cell\u001b[0m  \u001b[0;34m=\u001b[0m \u001b[0mmatch\u001b[0m\u001b[0;34m.\u001b[0m\u001b[0mfind_all\u001b[0m\u001b[0;34m(\u001b[0m\u001b[0;34m'td'\u001b[0m\u001b[0;34m)\u001b[0m\u001b[0;34m[\u001b[0m\u001b[0;36m9\u001b[0m\u001b[0;34m]\u001b[0m\u001b[0;34m\u001b[0m\u001b[0;34m\u001b[0m\u001b[0m\n\u001b[0m\u001b[1;32m     42\u001b[0m     \u001b[0msoup\u001b[0m \u001b[0;34m=\u001b[0m \u001b[0mbs4\u001b[0m\u001b[0;34m.\u001b[0m\u001b[0mBeautifulSoup\u001b[0m\u001b[0;34m(\u001b[0m\u001b[0mstr\u001b[0m\u001b[0;34m(\u001b[0m\u001b[0mid_cell\u001b[0m\u001b[0;34m)\u001b[0m\u001b[0;34m)\u001b[0m\u001b[0;34m\u001b[0m\u001b[0;34m\u001b[0m\u001b[0m\n\u001b[1;32m     43\u001b[0m     \u001b[0mmatchID\u001b[0m \u001b[0;34m=\u001b[0m \u001b[0msoup\u001b[0m\u001b[0;34m.\u001b[0m\u001b[0mget_text\u001b[0m\u001b[0;34m(\u001b[0m\u001b[0;34m)\u001b[0m\u001b[0;34m.\u001b[0m\u001b[0msplit\u001b[0m\u001b[0;34m(\u001b[0m\u001b[0;34m\"#\"\u001b[0m\u001b[0;34m,\u001b[0m\u001b[0;36m1\u001b[0m\u001b[0;34m)\u001b[0m\u001b[0;34m[\u001b[0m\u001b[0;36m1\u001b[0m\u001b[0;34m]\u001b[0m\u001b[0;34m\u001b[0m\u001b[0;34m\u001b[0m\u001b[0m\n",
      "\u001b[0;31mIndexError\u001b[0m: list index out of range"
     ]
    }
   ],
   "source": [
    "dismissalBowlerHand = []\n",
    "\n",
    "params = [\n",
    "    ('class', '3'),\n",
    "    ('bowling_hand','1'),\n",
    "    ('filter','advanced'),\n",
    "    ('template', 'results'),\n",
    "    ('type', 'batting'),\n",
    "    ('view', 'dismissal_list'),\n",
    "]\n",
    "response = requests.get(url=url, params=params)\n",
    "soup = bs4.BeautifulSoup(response.text,'lxml')\n",
    "table = soup.find_all(\"table\")[3]\n",
    "match_data = table.find_all('tr')[1:]\n",
    "\n",
    "for match in match_data:\n",
    "\n",
    "    id_cell  = match.find_all('td')[9]\n",
    "    soup = bs4.BeautifulSoup(str(id_cell))\n",
    "    matchID = soup.get_text().split(\"#\",1)[1]\n",
    "    dismissalBowlerHand.append({\n",
    "        \"hand\": \"right\",\n",
    "        \"id\": int(matchID)\n",
    "    })\n",
    "    \n",
    "params = [\n",
    "    ('class', '3'),\n",
    "    ('bowling_hand','2'),\n",
    "    ('filter','advanced'),\n",
    "    ('template', 'results'),\n",
    "    ('type', 'batting'),\n",
    "    ('view', 'dismissal_list'),\n",
    "]\n",
    "response = requests.get(url=url, params=params)\n",
    "soup = bs4.BeautifulSoup(response.text,'lxml')\n",
    "table = soup.find_all(\"table\")[3]\n",
    "match_data = table.find_all('tr')[1:]\n",
    "\n",
    "for match in match_data:\n",
    "\n",
    "    id_cell  = match.find_all('td')[9]\n",
    "    soup = bs4.BeautifulSoup(str(id_cell))\n",
    "    matchID = soup.get_text().split(\"#\",1)[1]\n",
    "    dismissalBowlerHand.append({\n",
    "        \"hand\": \"left\",\n",
    "        \"id\": int(matchID)\n",
    "    })\n",
    "    \n",
    "print(dismissalBowlerHand)"
   ]
  },
  {
   "cell_type": "markdown",
   "metadata": {},
   "source": [
    "#### Adds the new data found into the existing match-wise dataset"
   ]
  },
  {
   "cell_type": "code",
   "execution_count": 19,
   "metadata": {},
   "outputs": [],
   "source": [
    "for match in won:\n",
    "    dataset.loc[dataset['matchID'] == match, 'won'] = True\n",
    "for match in captained:\n",
    "    dataset.loc[dataset['matchID'] == match, 'captained'] = True\n",
    "for match in dismissalType:\n",
    "    dataset.loc[dataset['matchID'] == match['id'], 'dismissalType'] = match['type']\n",
    "for match in dismissedAgainst:\n",
    "    dataset.loc[dataset['matchID'] == match['id'], 'dismissedAgainst'] = match['type']\n",
    "for match in dismissalBowlerHand:\n",
    "    dataset.loc[dataset['matchID'] == match['id'], 'dismissalBowlerHand'] = match['hand']\n",
    "for match in minutes:\n",
    "    dataset.loc[dataset['matchID'] == match['id'], 'minutes'] = match['min']\n",
    "for match in batPosition:\n",
    "    dataset.loc[dataset['matchID'] == match['id'], 'batPosition'] = match['pos']\n",
    "for match in batFirst:\n",
    "    dataset.loc[dataset['matchID'] == match, 'firstBat'] = True"
   ]
  },
  {
   "cell_type": "code",
   "execution_count": 20,
   "metadata": {},
   "outputs": [
    {
     "name": "stdout",
     "output_type": "stream",
     "text": [
      "    balls batPosition  captained         date  didNotBat dismissalBowlerHand  \\\n",
      "0       1           1      False  18 Jun 2016      False               right   \n",
      "1      40           1      False  20 Jun 2016      False                None   \n",
      "2      20           1      False  22 Jun 2016      False               right   \n",
      "3      51           4      False  27 Aug 2016      False                None   \n",
      "4       0           -      False  28 Aug 2016       True                None   \n",
      "5       9           2      False  26 Jan 2017      False               right   \n",
      "6      47           2      False  29 Jan 2017      False               right   \n",
      "7      18           2      False   1 Feb 2017      False               right   \n",
      "8      18           2      False   6 Sep 2017      False               right   \n",
      "9      48           2      False  20 Dec 2017      False               right   \n",
      "10     49           2      False  22 Dec 2017      False               right   \n",
      "11      9           2      False  24 Dec 2017      False               right   \n",
      "12     17           3      False  12 Mar 2018      False               right   \n",
      "13      0           -      False  14 Mar 2018       True                None   \n",
      "14     14           4      False  18 Mar 2018      False               right   \n",
      "15     36           1      False  29 Jun 2018      False               right   \n",
      "16     54           3      False   3 Jul 2018      False                None   \n",
      "17      8           3      False   6 Jul 2018      False               right   \n",
      "18     10           3      False   8 Jul 2018      False               right   \n",
      "19     22           3      False   4 Nov 2018      False               right   \n",
      "20     14           4      False   6 Nov 2018      False                None   \n",
      "21     10           3      False  11 Nov 2018      False               right   \n",
      "22     12           3      False  21 Nov 2018      False               right   \n",
      "23      0           -      False  23 Nov 2018       True                None   \n",
      "24     20           4      False  25 Nov 2018      False               right   \n",
      "25     36           2      False  24 Feb 2019      False               right   \n",
      "26     26           1      False  27 Feb 2019      False               right   \n",
      "\n",
      "   dismissalType dismissedAgainst  firstBat  fours             ground  match  \\\n",
      "0         bowled             pace     False      0             Harare      1   \n",
      "1        not out             None     False      2             Harare      2   \n",
      "2         bowled             pace      True      3             Harare      3   \n",
      "3        not out             None     False     12         Lauderhill      4   \n",
      "4              -             None     False      0         Lauderhill      5   \n",
      "5         caught             pace      True      1             Kanpur      6   \n",
      "6         caught             pace      True      6             Nagpur      7   \n",
      "7         bowled             pace      True      2          Bengaluru      8   \n",
      "8         caught             spin     False      3      Colombo (RPS)      9   \n",
      "9         bowled             pace      True      7            Cuttack     10   \n",
      "10        caught             pace      True      5             Indore     11   \n",
      "11           lbw             pace     False      0             Mumbai     12   \n",
      "12    hit wicket             spin     False      1      Colombo (RPS)     13   \n",
      "13             -             None      True      0      Colombo (RPS)     14   \n",
      "14        caught             pace     False      2      Colombo (RPS)     15   \n",
      "15        caught             pace      True      3  Dublin (Malahide)     16   \n",
      "16       not out             None     False     10         Manchester     17   \n",
      "17        bowled             pace      True      0            Cardiff     18   \n",
      "18        caught             pace     False      1            Bristol     19   \n",
      "19        caught             pace     False      2            Kolkata     20   \n",
      "20       not out             None      True      2            Lucknow     21   \n",
      "21        caught             pace     False      4            Chennai     22   \n",
      "22       stumped             spin     False      1           Brisbane     23   \n",
      "23             -             None     False      0          Melbourne     24   \n",
      "24        caught             spin     False      0             Sydney     25   \n",
      "25        caught             pace      True      6      Visakhapatnam     26   \n",
      "26        caught             pace      True      3          Bengaluru     27   \n",
      "\n",
      "    matchID minutes  notOut   opposition  runs  sixes  strikeRate    won  \n",
      "0       558       0   False     Zimbabwe     0      0           0  False  \n",
      "1       559      56    True     Zimbabwe    47      2         117   True  \n",
      "2       560      21   False     Zimbabwe    22      1         110   True  \n",
      "3       562      84    True  West Indies   110      5         215  False  \n",
      "4       563       0    True  West Indies     0      0           0  False  \n",
      "5       592      21   False      England     8      0          88  False  \n",
      "6       593      75   False      England    71      2         151   True  \n",
      "7       594      39   False      England    22      1         122   True  \n",
      "8       618       0   False    Sri Lanka    24      0         133   True  \n",
      "9       633      68   False    Sri Lanka    61      1         127   True  \n",
      "10      634      94   False    Sri Lanka    89      8         181   True  \n",
      "11      635      14   False    Sri Lanka     4      0          44   True  \n",
      "12      659       0   False    Sri Lanka    18      0         105   True  \n",
      "13      660       0    True   Bangladesh     0      0           0   True  \n",
      "14      662       0   False   Bangladesh    24      1         171   True  \n",
      "15      680       0   False      Ireland    70      6         194   True  \n",
      "16      684       0    True      England   101      5         187   True  \n",
      "17      688       0   False      England     6      0          75  False  \n",
      "18      690       0   False      England    19      2         190   True  \n",
      "19      707       0   False  West Indies    16      0          72   True  \n",
      "20      709      20    True  West Indies    26      1         185   True  \n",
      "21      710       0   False  West Indies    17      0         170   True  \n",
      "22      712       0   False    Australia    13      0         108  False  \n",
      "23      713       0    True    Australia     0      0           0  False  \n",
      "24      714       0   False    Australia    14      1          70   True  \n",
      "25      748      56   False    Australia    50      1         138  False  \n",
      "26      749      36   False    Australia    47      4         180  False  \n"
     ]
    }
   ],
   "source": [
    "print(dataset)"
   ]
  },
  {
   "cell_type": "markdown",
   "metadata": {},
   "source": [
    "#### Converts the dataset in Pandas to JSON"
   ]
  },
  {
   "cell_type": "code",
   "execution_count": 21,
   "metadata": {},
   "outputs": [
    {
     "name": "stdout",
     "output_type": "stream",
     "text": [
      "[{\"balls\":1,\"batPosition\":\"1\",\"captained\":false,\"date\":\"18 Jun 2016\",\"didNotBat\":false,\"dismissalBowlerHand\":\"right\",\"dismissalType\":\"bowled\",\"dismissedAgainst\":\"pace\",\"firstBat\":false,\"fours\":0,\"ground\":\"Harare\",\"match\":1,\"matchID\":558,\"minutes\":0,\"notOut\":false,\"opposition\":\"Zimbabwe\",\"runs\":0,\"sixes\":0,\"strikeRate\":0,\"won\":false},{\"balls\":40,\"batPosition\":\"1\",\"captained\":false,\"date\":\"20 Jun 2016\",\"didNotBat\":false,\"dismissalBowlerHand\":null,\"dismissalType\":\"not out\",\"dismissedAgainst\":null,\"firstBat\":false,\"fours\":2,\"ground\":\"Harare\",\"match\":2,\"matchID\":559,\"minutes\":\"56\",\"notOut\":true,\"opposition\":\"Zimbabwe\",\"runs\":47,\"sixes\":2,\"strikeRate\":117,\"won\":true},{\"balls\":20,\"batPosition\":\"1\",\"captained\":false,\"date\":\"22 Jun 2016\",\"didNotBat\":false,\"dismissalBowlerHand\":\"right\",\"dismissalType\":\"bowled\",\"dismissedAgainst\":\"pace\",\"firstBat\":true,\"fours\":3,\"ground\":\"Harare\",\"match\":3,\"matchID\":560,\"minutes\":\"21\",\"notOut\":false,\"opposition\":\"Zimbabwe\",\"runs\":22,\"sixes\":1,\"strikeRate\":110,\"won\":true},{\"balls\":51,\"batPosition\":\"4\",\"captained\":false,\"date\":\"27 Aug 2016\",\"didNotBat\":false,\"dismissalBowlerHand\":null,\"dismissalType\":\"not out\",\"dismissedAgainst\":null,\"firstBat\":false,\"fours\":12,\"ground\":\"Lauderhill\",\"match\":4,\"matchID\":562,\"minutes\":\"84\",\"notOut\":true,\"opposition\":\"West Indies\",\"runs\":110,\"sixes\":5,\"strikeRate\":215,\"won\":false},{\"balls\":0,\"batPosition\":\"-\",\"captained\":false,\"date\":\"28 Aug 2016\",\"didNotBat\":true,\"dismissalBowlerHand\":null,\"dismissalType\":\"-\",\"dismissedAgainst\":null,\"firstBat\":false,\"fours\":0,\"ground\":\"Lauderhill\",\"match\":5,\"matchID\":563,\"minutes\":0,\"notOut\":true,\"opposition\":\"West Indies\",\"runs\":0,\"sixes\":0,\"strikeRate\":0,\"won\":false},{\"balls\":9,\"batPosition\":\"2\",\"captained\":false,\"date\":\"26 Jan 2017\",\"didNotBat\":false,\"dismissalBowlerHand\":\"right\",\"dismissalType\":\"caught\",\"dismissedAgainst\":\"pace\",\"firstBat\":true,\"fours\":1,\"ground\":\"Kanpur\",\"match\":6,\"matchID\":592,\"minutes\":\"21\",\"notOut\":false,\"opposition\":\"England\",\"runs\":8,\"sixes\":0,\"strikeRate\":88,\"won\":false},{\"balls\":47,\"batPosition\":\"2\",\"captained\":false,\"date\":\"29 Jan 2017\",\"didNotBat\":false,\"dismissalBowlerHand\":\"right\",\"dismissalType\":\"caught\",\"dismissedAgainst\":\"pace\",\"firstBat\":true,\"fours\":6,\"ground\":\"Nagpur\",\"match\":7,\"matchID\":593,\"minutes\":\"75\",\"notOut\":false,\"opposition\":\"England\",\"runs\":71,\"sixes\":2,\"strikeRate\":151,\"won\":true},{\"balls\":18,\"batPosition\":\"2\",\"captained\":false,\"date\":\"1 Feb 2017\",\"didNotBat\":false,\"dismissalBowlerHand\":\"right\",\"dismissalType\":\"bowled\",\"dismissedAgainst\":\"pace\",\"firstBat\":true,\"fours\":2,\"ground\":\"Bengaluru\",\"match\":8,\"matchID\":594,\"minutes\":\"39\",\"notOut\":false,\"opposition\":\"England\",\"runs\":22,\"sixes\":1,\"strikeRate\":122,\"won\":true},{\"balls\":18,\"batPosition\":\"2\",\"captained\":false,\"date\":\"6 Sep 2017\",\"didNotBat\":false,\"dismissalBowlerHand\":\"right\",\"dismissalType\":\"caught\",\"dismissedAgainst\":\"spin\",\"firstBat\":false,\"fours\":3,\"ground\":\"Colombo (RPS)\",\"match\":9,\"matchID\":618,\"minutes\":0,\"notOut\":false,\"opposition\":\"Sri Lanka\",\"runs\":24,\"sixes\":0,\"strikeRate\":133,\"won\":true},{\"balls\":48,\"batPosition\":\"2\",\"captained\":false,\"date\":\"20 Dec 2017\",\"didNotBat\":false,\"dismissalBowlerHand\":\"right\",\"dismissalType\":\"bowled\",\"dismissedAgainst\":\"pace\",\"firstBat\":true,\"fours\":7,\"ground\":\"Cuttack\",\"match\":10,\"matchID\":633,\"minutes\":\"68\",\"notOut\":false,\"opposition\":\"Sri Lanka\",\"runs\":61,\"sixes\":1,\"strikeRate\":127,\"won\":true},{\"balls\":49,\"batPosition\":\"2\",\"captained\":false,\"date\":\"22 Dec 2017\",\"didNotBat\":false,\"dismissalBowlerHand\":\"right\",\"dismissalType\":\"caught\",\"dismissedAgainst\":\"pace\",\"firstBat\":true,\"fours\":5,\"ground\":\"Indore\",\"match\":11,\"matchID\":634,\"minutes\":\"94\",\"notOut\":false,\"opposition\":\"Sri Lanka\",\"runs\":89,\"sixes\":8,\"strikeRate\":181,\"won\":true},{\"balls\":9,\"batPosition\":\"2\",\"captained\":false,\"date\":\"24 Dec 2017\",\"didNotBat\":false,\"dismissalBowlerHand\":\"right\",\"dismissalType\":\"lbw\",\"dismissedAgainst\":\"pace\",\"firstBat\":false,\"fours\":0,\"ground\":\"Mumbai\",\"match\":12,\"matchID\":635,\"minutes\":\"14\",\"notOut\":false,\"opposition\":\"Sri Lanka\",\"runs\":4,\"sixes\":0,\"strikeRate\":44,\"won\":true},{\"balls\":17,\"batPosition\":\"3\",\"captained\":false,\"date\":\"12 Mar 2018\",\"didNotBat\":false,\"dismissalBowlerHand\":\"right\",\"dismissalType\":\"hit wicket\",\"dismissedAgainst\":\"spin\",\"firstBat\":false,\"fours\":1,\"ground\":\"Colombo (RPS)\",\"match\":13,\"matchID\":659,\"minutes\":0,\"notOut\":false,\"opposition\":\"Sri Lanka\",\"runs\":18,\"sixes\":0,\"strikeRate\":105,\"won\":true},{\"balls\":0,\"batPosition\":\"-\",\"captained\":false,\"date\":\"14 Mar 2018\",\"didNotBat\":true,\"dismissalBowlerHand\":null,\"dismissalType\":\"-\",\"dismissedAgainst\":null,\"firstBat\":true,\"fours\":0,\"ground\":\"Colombo (RPS)\",\"match\":14,\"matchID\":660,\"minutes\":0,\"notOut\":true,\"opposition\":\"Bangladesh\",\"runs\":0,\"sixes\":0,\"strikeRate\":0,\"won\":true},{\"balls\":14,\"batPosition\":\"4\",\"captained\":false,\"date\":\"18 Mar 2018\",\"didNotBat\":false,\"dismissalBowlerHand\":\"right\",\"dismissalType\":\"caught\",\"dismissedAgainst\":\"pace\",\"firstBat\":false,\"fours\":2,\"ground\":\"Colombo (RPS)\",\"match\":15,\"matchID\":662,\"minutes\":0,\"notOut\":false,\"opposition\":\"Bangladesh\",\"runs\":24,\"sixes\":1,\"strikeRate\":171,\"won\":true},{\"balls\":36,\"batPosition\":\"1\",\"captained\":false,\"date\":\"29 Jun 2018\",\"didNotBat\":false,\"dismissalBowlerHand\":\"right\",\"dismissalType\":\"caught\",\"dismissedAgainst\":\"pace\",\"firstBat\":true,\"fours\":3,\"ground\":\"Dublin (Malahide)\",\"match\":16,\"matchID\":680,\"minutes\":0,\"notOut\":false,\"opposition\":\"Ireland\",\"runs\":70,\"sixes\":6,\"strikeRate\":194,\"won\":true},{\"balls\":54,\"batPosition\":\"3\",\"captained\":false,\"date\":\"3 Jul 2018\",\"didNotBat\":false,\"dismissalBowlerHand\":null,\"dismissalType\":\"not out\",\"dismissedAgainst\":null,\"firstBat\":false,\"fours\":10,\"ground\":\"Manchester\",\"match\":17,\"matchID\":684,\"minutes\":0,\"notOut\":true,\"opposition\":\"England\",\"runs\":101,\"sixes\":5,\"strikeRate\":187,\"won\":true},{\"balls\":8,\"batPosition\":\"3\",\"captained\":false,\"date\":\"6 Jul 2018\",\"didNotBat\":false,\"dismissalBowlerHand\":\"right\",\"dismissalType\":\"bowled\",\"dismissedAgainst\":\"pace\",\"firstBat\":true,\"fours\":0,\"ground\":\"Cardiff\",\"match\":18,\"matchID\":688,\"minutes\":0,\"notOut\":false,\"opposition\":\"England\",\"runs\":6,\"sixes\":0,\"strikeRate\":75,\"won\":false},{\"balls\":10,\"batPosition\":\"3\",\"captained\":false,\"date\":\"8 Jul 2018\",\"didNotBat\":false,\"dismissalBowlerHand\":\"right\",\"dismissalType\":\"caught\",\"dismissedAgainst\":\"pace\",\"firstBat\":false,\"fours\":1,\"ground\":\"Bristol\",\"match\":19,\"matchID\":690,\"minutes\":0,\"notOut\":false,\"opposition\":\"England\",\"runs\":19,\"sixes\":2,\"strikeRate\":190,\"won\":true},{\"balls\":22,\"batPosition\":\"3\",\"captained\":false,\"date\":\"4 Nov 2018\",\"didNotBat\":false,\"dismissalBowlerHand\":\"right\",\"dismissalType\":\"caught\",\"dismissedAgainst\":\"pace\",\"firstBat\":false,\"fours\":2,\"ground\":\"Kolkata\",\"match\":20,\"matchID\":707,\"minutes\":0,\"notOut\":false,\"opposition\":\"West Indies\",\"runs\":16,\"sixes\":0,\"strikeRate\":72,\"won\":true},{\"balls\":14,\"batPosition\":\"4\",\"captained\":false,\"date\":\"6 Nov 2018\",\"didNotBat\":false,\"dismissalBowlerHand\":null,\"dismissalType\":\"not out\",\"dismissedAgainst\":null,\"firstBat\":true,\"fours\":2,\"ground\":\"Lucknow\",\"match\":21,\"matchID\":709,\"minutes\":\"20\",\"notOut\":true,\"opposition\":\"West Indies\",\"runs\":26,\"sixes\":1,\"strikeRate\":185,\"won\":true},{\"balls\":10,\"batPosition\":\"3\",\"captained\":false,\"date\":\"11 Nov 2018\",\"didNotBat\":false,\"dismissalBowlerHand\":\"right\",\"dismissalType\":\"caught\",\"dismissedAgainst\":\"pace\",\"firstBat\":false,\"fours\":4,\"ground\":\"Chennai\",\"match\":22,\"matchID\":710,\"minutes\":0,\"notOut\":false,\"opposition\":\"West Indies\",\"runs\":17,\"sixes\":0,\"strikeRate\":170,\"won\":true},{\"balls\":12,\"batPosition\":\"3\",\"captained\":false,\"date\":\"21 Nov 2018\",\"didNotBat\":false,\"dismissalBowlerHand\":\"right\",\"dismissalType\":\"stumped\",\"dismissedAgainst\":\"spin\",\"firstBat\":false,\"fours\":1,\"ground\":\"Brisbane\",\"match\":23,\"matchID\":712,\"minutes\":0,\"notOut\":false,\"opposition\":\"Australia\",\"runs\":13,\"sixes\":0,\"strikeRate\":108,\"won\":false},{\"balls\":0,\"batPosition\":\"-\",\"captained\":false,\"date\":\"23 Nov 2018\",\"didNotBat\":true,\"dismissalBowlerHand\":null,\"dismissalType\":\"-\",\"dismissedAgainst\":null,\"firstBat\":false,\"fours\":0,\"ground\":\"Melbourne\",\"match\":24,\"matchID\":713,\"minutes\":0,\"notOut\":true,\"opposition\":\"Australia\",\"runs\":0,\"sixes\":0,\"strikeRate\":0,\"won\":false},{\"balls\":20,\"batPosition\":\"4\",\"captained\":false,\"date\":\"25 Nov 2018\",\"didNotBat\":false,\"dismissalBowlerHand\":\"right\",\"dismissalType\":\"caught\",\"dismissedAgainst\":\"spin\",\"firstBat\":false,\"fours\":0,\"ground\":\"Sydney\",\"match\":25,\"matchID\":714,\"minutes\":0,\"notOut\":false,\"opposition\":\"Australia\",\"runs\":14,\"sixes\":1,\"strikeRate\":70,\"won\":true},{\"balls\":36,\"batPosition\":\"2\",\"captained\":false,\"date\":\"24 Feb 2019\",\"didNotBat\":false,\"dismissalBowlerHand\":\"right\",\"dismissalType\":\"caught\",\"dismissedAgainst\":\"pace\",\"firstBat\":true,\"fours\":6,\"ground\":\"Visakhapatnam\",\"match\":26,\"matchID\":748,\"minutes\":\"56\",\"notOut\":false,\"opposition\":\"Australia\",\"runs\":50,\"sixes\":1,\"strikeRate\":138,\"won\":false},{\"balls\":26,\"batPosition\":\"1\",\"captained\":false,\"date\":\"27 Feb 2019\",\"didNotBat\":false,\"dismissalBowlerHand\":\"right\",\"dismissalType\":\"caught\",\"dismissedAgainst\":\"pace\",\"firstBat\":true,\"fours\":3,\"ground\":\"Bengaluru\",\"match\":27,\"matchID\":749,\"minutes\":\"36\",\"notOut\":false,\"opposition\":\"Australia\",\"runs\":47,\"sixes\":4,\"strikeRate\":180,\"won\":false}]\n"
     ]
    }
   ],
   "source": [
    "json = dataset.to_json(orient='records')\n",
    "print(json)"
   ]
  }
 ],
 "metadata": {
  "kernelspec": {
   "display_name": "Python 3",
   "language": "python",
   "name": "python3"
  },
  "language_info": {
   "codemirror_mode": {
    "name": "ipython",
    "version": 3
   },
   "file_extension": ".py",
   "mimetype": "text/x-python",
   "name": "python",
   "nbconvert_exporter": "python",
   "pygments_lexer": "ipython3",
   "version": "3.6.7"
  }
 },
 "nbformat": 4,
 "nbformat_minor": 2
}
